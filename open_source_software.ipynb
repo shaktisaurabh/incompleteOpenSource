{
 "cells": [
  {
   "cell_type": "code",
   "execution_count": 1,
   "id": "079d8fd2",
   "metadata": {},
   "outputs": [],
   "source": [
    "#Open source software is a software with source code that anyone can inspect, modify and enhance. For example \n",
    "#(a).Android---->Linux(b)Apache(c)Mozilla(d)Python(e)LibreOffice(f)VLC media player"
   ]
  },
  {
   "cell_type": "code",
   "execution_count": 3,
   "id": "a8f1e142",
   "metadata": {},
   "outputs": [],
   "source": [
    "#closed source softwares are softwares that are not free for public inspection,modification or enhancement. Its creator excercises\n",
    "#legal monopoly over it and restrict the user from freely sharing or modifying it (a)Microsoft office (b)Adobe photoshop\n",
    "#(c)Oracle"
   ]
  },
  {
   "cell_type": "code",
   "execution_count": 4,
   "id": "3c50dceb",
   "metadata": {},
   "outputs": [],
   "source": [
    "#Open source is developed by multiple developers for free whereas closed source is developed by hiring developers who are paid \n",
    "#for development. In case of closed source software, u can ask the employees for help incase u face any issues although the same\n",
    "#is not possible for closed source softwares."
   ]
  },
  {
   "cell_type": "code",
   "execution_count": null,
   "id": "1690c586",
   "metadata": {},
   "outputs": [],
   "source": [
    "#Closed source softwares are usually more secure while open source softwares are not secure enough and hence you see closed source\n",
    "#softwares being used "
   ]
  },
  {
   "cell_type": "code",
   "execution_count": 13,
   "id": "f4cdb2ec",
   "metadata": {
    "scrolled": true
   },
   "outputs": [
    {
     "ename": "ValueError",
     "evalue": "Unable to process empty list",
     "output_type": "error",
     "traceback": [
      "\u001b[1;31m---------------------------------------------------------------------------\u001b[0m",
      "\u001b[1;31mValueError\u001b[0m                                Traceback (most recent call last)",
      "\u001b[1;32m~\\AppData\\Local\\Temp\\ipykernel_14184\\1460675380.py\u001b[0m in \u001b[0;36m<module>\u001b[1;34m\u001b[0m\n\u001b[0;32m      8\u001b[0m \u001b[1;31m# Convert images to PDF\u001b[0m\u001b[1;33m\u001b[0m\u001b[1;33m\u001b[0m\u001b[0m\n\u001b[0;32m      9\u001b[0m \u001b[1;32mwith\u001b[0m \u001b[0mopen\u001b[0m\u001b[1;33m(\u001b[0m\u001b[1;34m\"D:\\\\merepapa1\\\\papachota.pdf\"\u001b[0m\u001b[1;33m,\u001b[0m \u001b[1;34m\"wb\"\u001b[0m\u001b[1;33m)\u001b[0m \u001b[1;32mas\u001b[0m \u001b[0mf\u001b[0m\u001b[1;33m:\u001b[0m\u001b[1;33m\u001b[0m\u001b[1;33m\u001b[0m\u001b[0m\n\u001b[1;32m---> 10\u001b[1;33m     \u001b[0mf\u001b[0m\u001b[1;33m.\u001b[0m\u001b[0mwrite\u001b[0m\u001b[1;33m(\u001b[0m\u001b[0mimg2pdf\u001b[0m\u001b[1;33m.\u001b[0m\u001b[0mconvert\u001b[0m\u001b[1;33m(\u001b[0m\u001b[0mimages\u001b[0m\u001b[1;33m)\u001b[0m\u001b[1;33m)\u001b[0m\u001b[1;33m\u001b[0m\u001b[1;33m\u001b[0m\u001b[0m\n\u001b[0m",
      "\u001b[1;32m~\\anaconda3\\lib\\site-packages\\img2pdf.py\u001b[0m in \u001b[0;36mconvert\u001b[1;34m(*images, **kwargs)\u001b[0m\n\u001b[0;32m   2682\u001b[0m     \u001b[1;32melse\u001b[0m\u001b[1;33m:\u001b[0m\u001b[1;33m\u001b[0m\u001b[1;33m\u001b[0m\u001b[0m\n\u001b[0;32m   2683\u001b[0m         \u001b[1;32mif\u001b[0m \u001b[0mlen\u001b[0m\u001b[1;33m(\u001b[0m\u001b[0mimages\u001b[0m\u001b[1;33m)\u001b[0m \u001b[1;33m==\u001b[0m \u001b[1;36m0\u001b[0m\u001b[1;33m:\u001b[0m\u001b[1;33m\u001b[0m\u001b[1;33m\u001b[0m\u001b[0m\n\u001b[1;32m-> 2684\u001b[1;33m             \u001b[1;32mraise\u001b[0m \u001b[0mValueError\u001b[0m\u001b[1;33m(\u001b[0m\u001b[1;34m\"Unable to process empty list\"\u001b[0m\u001b[1;33m)\u001b[0m\u001b[1;33m\u001b[0m\u001b[1;33m\u001b[0m\u001b[0m\n\u001b[0m\u001b[0;32m   2685\u001b[0m \u001b[1;33m\u001b[0m\u001b[0m\n\u001b[0;32m   2686\u001b[0m     \u001b[1;32mfor\u001b[0m \u001b[0mimg\u001b[0m \u001b[1;32min\u001b[0m \u001b[0mimages\u001b[0m\u001b[1;33m:\u001b[0m\u001b[1;33m\u001b[0m\u001b[1;33m\u001b[0m\u001b[0m\n",
      "\u001b[1;31mValueError\u001b[0m: Unable to process empty list"
     ]
    }
   ],
   "source": [
    "import img2pdf\n",
    "import os\n",
    "\n",
    "# Specify the folder containing images\n",
    "img_folder = \"D:\\\\whatmine\"\n",
    "images = [os.path.join(img_folder, img) for img in os.listdir(img_folder) if img.endswith(\".jpg\")]\n",
    "\n",
    "# Convert images to PDF\n",
    "with open(\"D:\\\\merepapa1\\\\papachota.pdf\", \"wb\") as f:\n",
    "    f.write(img2pdf.convert(images))\n"
   ]
  },
  {
   "cell_type": "code",
   "execution_count": 14,
   "id": "0164628a",
   "metadata": {},
   "outputs": [
    {
     "name": "stdout",
     "output_type": "stream",
     "text": [
      "Folder D:\\whatmine found\n",
      "Files in folder: ['image1.jpeg', 'image10.jpeg', 'image11.jpeg', 'image12.jpeg', 'image13.jpeg', 'image14.jpeg', 'image15.jpeg', 'image16.jpeg', 'image17.jpeg', 'image18.jpeg', 'image19.jpeg', 'image2.jpeg', 'image3.jpeg', 'image4.jpeg', 'image5.jpeg', 'image6.jpeg', 'image7.jpeg', 'image8.jpeg', 'image9.jpeg']\n",
      "No .jpg files found in the folder.\n"
     ]
    }
   ],
   "source": [
    "import img2pdf\n",
    "import os\n",
    "\n",
    "# Specify the folder containing images\n",
    "img_folder = r\"D:\\whatmine\"  # Use raw string literal to avoid escape issues\n",
    "\n",
    "# Check if folder exists\n",
    "if not os.path.exists(img_folder):\n",
    "    print(f\"Folder {img_folder} does not exist\")\n",
    "else:\n",
    "    print(f\"Folder {img_folder} found\")\n",
    "\n",
    "# List the contents of the folder\n",
    "files_in_folder = os.listdir(img_folder)\n",
    "print(\"Files in folder:\", files_in_folder)\n",
    "\n",
    "# Select only .jpg files (case insensitive)\n",
    "images = [os.path.join(img_folder, img) for img in files_in_folder if img.lower().endswith(\".jpg\")]\n",
    "\n",
    "# Debugging step: Check if images list is empty\n",
    "if not images:\n",
    "    print(\"No .jpg files found in the folder.\")\n",
    "else:\n",
    "    print(f\"Images to be processed: {images}\")\n",
    "\n",
    "    # Convert images to PDF\n",
    "    pdf_output_path = r\"D:\\merepapa1\\papachota.pdf\"\n",
    "    with open(pdf_output_path, \"wb\") as f:\n",
    "        f.write(img2pdf.convert(images))\n",
    "    print(f\"PDF created at {pdf_output_path}\")\n"
   ]
  },
  {
   "cell_type": "code",
   "execution_count": 15,
   "id": "e827fb89",
   "metadata": {},
   "outputs": [
    {
     "name": "stdout",
     "output_type": "stream",
     "text": [
      "Folder D:\\whatmine found\n",
      "Files in folder: ['image1.jpeg', 'image10.jpeg', 'image11.jpeg', 'image12.jpeg', 'image13.jpeg', 'image14.jpeg', 'image15.jpeg', 'image16.jpeg', 'image17.jpeg', 'image18.jpeg', 'image19.jpeg', 'image2.jpeg', 'image3.jpeg', 'image4.jpeg', 'image5.jpeg', 'image6.jpeg', 'image7.jpeg', 'image8.jpeg', 'image9.jpeg']\n",
      "Images to be processed: ['D:\\\\whatmine\\\\image1.jpeg', 'D:\\\\whatmine\\\\image10.jpeg', 'D:\\\\whatmine\\\\image11.jpeg', 'D:\\\\whatmine\\\\image12.jpeg', 'D:\\\\whatmine\\\\image13.jpeg', 'D:\\\\whatmine\\\\image14.jpeg', 'D:\\\\whatmine\\\\image15.jpeg', 'D:\\\\whatmine\\\\image16.jpeg', 'D:\\\\whatmine\\\\image17.jpeg', 'D:\\\\whatmine\\\\image18.jpeg', 'D:\\\\whatmine\\\\image19.jpeg', 'D:\\\\whatmine\\\\image2.jpeg', 'D:\\\\whatmine\\\\image3.jpeg', 'D:\\\\whatmine\\\\image4.jpeg', 'D:\\\\whatmine\\\\image5.jpeg', 'D:\\\\whatmine\\\\image6.jpeg', 'D:\\\\whatmine\\\\image7.jpeg', 'D:\\\\whatmine\\\\image8.jpeg', 'D:\\\\whatmine\\\\image9.jpeg']\n",
      "PDF created at D:\\merepapa1\\papachota.pdf\n"
     ]
    }
   ],
   "source": [
    "import img2pdf\n",
    "import os\n",
    "\n",
    "# Specify the folder containing images\n",
    "img_folder = r\"D:\\whatmine\"  # Use raw string literal\n",
    "\n",
    "# Check if folder exists\n",
    "if not os.path.exists(img_folder):\n",
    "    print(f\"Folder {img_folder} does not exist\")\n",
    "else:\n",
    "    print(f\"Folder {img_folder} found\")\n",
    "\n",
    "# List the contents of the folder\n",
    "files_in_folder = os.listdir(img_folder)\n",
    "print(\"Files in folder:\", files_in_folder)\n",
    "\n",
    "# Select both .jpg and .jpeg files (case insensitive)\n",
    "images = [os.path.join(img_folder, img) for img in files_in_folder if img.lower().endswith(('.jpg', '.jpeg'))]\n",
    "\n",
    "# Debugging step: Check if images list is empty\n",
    "if not images:\n",
    "    print(\"No .jpg or .jpeg files found in the folder.\")\n",
    "else:\n",
    "    print(f\"Images to be processed: {images}\")\n",
    "\n",
    "    # Convert images to PDF\n",
    "    pdf_output_path = r\"D:\\merepapa1\\papachota.pdf\"\n",
    "    with open(pdf_output_path, \"wb\") as f:\n",
    "        f.write(img2pdf.convert(images))\n",
    "    print(f\"PDF created at {pdf_output_path}\")\n"
   ]
  },
  {
   "cell_type": "code",
   "execution_count": 16,
   "id": "4025cb8c",
   "metadata": {},
   "outputs": [
    {
     "name": "stdout",
     "output_type": "stream",
     "text": [
      "Folder D:\\whatmine found\n",
      "Images to be processed: ['D:\\\\whatmine\\\\image1.jpeg', 'D:\\\\whatmine\\\\image2.jpeg', 'D:\\\\whatmine\\\\image3.jpeg', 'D:\\\\whatmine\\\\image4.jpeg', 'D:\\\\whatmine\\\\image5.jpeg', 'D:\\\\whatmine\\\\image6.jpeg', 'D:\\\\whatmine\\\\image7.jpeg', 'D:\\\\whatmine\\\\image8.jpeg', 'D:\\\\whatmine\\\\image9.jpeg', 'D:\\\\whatmine\\\\image10.jpeg', 'D:\\\\whatmine\\\\image11.jpeg', 'D:\\\\whatmine\\\\image12.jpeg', 'D:\\\\whatmine\\\\image13.jpeg', 'D:\\\\whatmine\\\\image14.jpeg', 'D:\\\\whatmine\\\\image15.jpeg', 'D:\\\\whatmine\\\\image16.jpeg', 'D:\\\\whatmine\\\\image17.jpeg', 'D:\\\\whatmine\\\\image18.jpeg', 'D:\\\\whatmine\\\\image19.jpeg']\n",
      "PDF created at D:\\merepapa1\\papachota.pdf\n"
     ]
    }
   ],
   "source": [
    "import img2pdf\n",
    "import os\n",
    "\n",
    "# Specify the folder containing images\n",
    "img_folder = r\"D:\\whatmine\"  # Use raw string literal\n",
    "\n",
    "# Check if folder exists\n",
    "if not os.path.exists(img_folder):\n",
    "    print(f\"Folder {img_folder} does not exist\")\n",
    "else:\n",
    "    print(f\"Folder {img_folder} found\")\n",
    "\n",
    "# List the contents of the folder\n",
    "files_in_folder = os.listdir(img_folder)\n",
    "\n",
    "# Sort files naturally (i.e., image1, image2, image10)\n",
    "# Sort by extracting the numeric part and sorting it numerically\n",
    "files_in_folder.sort(key=lambda f: int(''.join(filter(str.isdigit, f)) or -1))\n",
    "\n",
    "# Select both .jpg and .jpeg files (case insensitive)\n",
    "images = [os.path.join(img_folder, img) for img in files_in_folder if img.lower().endswith(('.jpg', '.jpeg'))]\n",
    "\n",
    "# Debugging step: Check if images list is empty\n",
    "if not images:\n",
    "    print(\"No .jpg or .jpeg files found in the folder.\")\n",
    "else:\n",
    "    print(f\"Images to be processed: {images}\")\n",
    "\n",
    "    # Convert images to PDF\n",
    "    pdf_output_path = r\"D:\\merepapa1\\papachota.pdf\"\n",
    "    with open(pdf_output_path, \"wb\") as f:\n",
    "        f.write(img2pdf.convert(images))\n",
    "    print(f\"PDF created at {pdf_output_path}\")\n"
   ]
  },
  {
   "cell_type": "code",
   "execution_count": 17,
   "id": "5bab02ac",
   "metadata": {},
   "outputs": [
    {
     "name": "stdout",
     "output_type": "stream",
     "text": [
      "Folder D:\\whatnew1 found\n",
      "Images to be processed: ['D:\\\\whatnew1\\\\image1.jpeg', 'D:\\\\whatnew1\\\\image2.jpeg', 'D:\\\\whatnew1\\\\image3.jpeg', 'D:\\\\whatnew1\\\\image4.jpeg', 'D:\\\\whatnew1\\\\image5.jpeg', 'D:\\\\whatnew1\\\\image6.jpeg', 'D:\\\\whatnew1\\\\image7.jpeg', 'D:\\\\whatnew1\\\\image8.jpeg', 'D:\\\\whatnew1\\\\image9.jpeg', 'D:\\\\whatnew1\\\\image10.jpeg', 'D:\\\\whatnew1\\\\image11.jpeg', 'D:\\\\whatnew1\\\\image12.jpeg', 'D:\\\\whatnew1\\\\image13.jpeg', 'D:\\\\whatnew1\\\\image14.jpeg', 'D:\\\\whatnew1\\\\image15.jpeg', 'D:\\\\whatnew1\\\\image16.jpeg', 'D:\\\\whatnew1\\\\image17.jpeg', 'D:\\\\whatnew1\\\\image18.jpeg', 'D:\\\\whatnew1\\\\image19.jpeg', 'D:\\\\whatnew1\\\\image20.jpeg', 'D:\\\\whatnew1\\\\image21.jpeg', 'D:\\\\whatnew1\\\\image22.jpeg', 'D:\\\\whatnew1\\\\image23.jpeg', 'D:\\\\whatnew1\\\\image24.jpeg', 'D:\\\\whatnew1\\\\image25.jpeg', 'D:\\\\whatnew1\\\\image26.jpeg', 'D:\\\\whatnew1\\\\image27.jpeg', 'D:\\\\whatnew1\\\\image28.jpeg', 'D:\\\\whatnew1\\\\image29.jpeg', 'D:\\\\whatnew1\\\\image30.jpeg', 'D:\\\\whatnew1\\\\image31.jpeg', 'D:\\\\whatnew1\\\\image32.jpeg', 'D:\\\\whatnew1\\\\image33.jpeg', 'D:\\\\whatnew1\\\\image34.jpeg', 'D:\\\\whatnew1\\\\image35.jpeg', 'D:\\\\whatnew1\\\\image36.jpeg', 'D:\\\\whatnew1\\\\image37.jpeg', 'D:\\\\whatnew1\\\\image38.jpeg', 'D:\\\\whatnew1\\\\image39.jpeg', 'D:\\\\whatnew1\\\\image40.jpeg', 'D:\\\\whatnew1\\\\image41.jpeg', 'D:\\\\whatnew1\\\\image42.jpeg', 'D:\\\\whatnew1\\\\image43.jpeg', 'D:\\\\whatnew1\\\\image44.jpeg']\n",
      "PDF created at D:\\mera\\merhi.pdf\n"
     ]
    }
   ],
   "source": [
    "import img2pdf\n",
    "import os\n",
    "\n",
    "# Specify the folder containing images\n",
    "img_folder = r\"D:\\whatnew1\"  # Use raw string literal\n",
    "\n",
    "# Check if folder exists\n",
    "if not os.path.exists(img_folder):\n",
    "    print(f\"Folder {img_folder} does not exist\")\n",
    "else:\n",
    "    print(f\"Folder {img_folder} found\")\n",
    "\n",
    "# List the contents of the folder\n",
    "files_in_folder = os.listdir(img_folder)\n",
    "\n",
    "# Sort files naturally (i.e., image1, image2, image10)\n",
    "# Sort by extracting the numeric part and sorting it numerically\n",
    "files_in_folder.sort(key=lambda f: int(''.join(filter(str.isdigit, f)) or -1))\n",
    "\n",
    "# Select both .jpg and .jpeg files (case insensitive)\n",
    "images = [os.path.join(img_folder, img) for img in files_in_folder if img.lower().endswith(('.jpg', '.jpeg'))]\n",
    "\n",
    "# Debugging step: Check if images list is empty\n",
    "if not images:\n",
    "    print(\"No .jpg or .jpeg files found in the folder.\")\n",
    "else:\n",
    "    print(f\"Images to be processed: {images}\")\n",
    "\n",
    "    # Convert images to PDF\n",
    "    pdf_output_path = r\"D:\\mera\\merhi.pdf\"\n",
    "    with open(pdf_output_path, \"wb\") as f:\n",
    "        f.write(img2pdf.convert(images))\n",
    "    print(f\"PDF created at {pdf_output_path}\")"
   ]
  },
  {
   "cell_type": "code",
   "execution_count": 18,
   "id": "13de24d9",
   "metadata": {},
   "outputs": [
    {
     "ename": "TypeError",
     "evalue": "save() got an unexpected keyword argument 'dpi'",
     "output_type": "error",
     "traceback": [
      "\u001b[1;31m---------------------------------------------------------------------------\u001b[0m",
      "\u001b[1;31mTypeError\u001b[0m                                 Traceback (most recent call last)",
      "\u001b[1;32m~\\AppData\\Local\\Temp\\ipykernel_14184\\1040110455.py\u001b[0m in \u001b[0;36m<module>\u001b[1;34m\u001b[0m\n\u001b[0;32m     23\u001b[0m \u001b[1;33m\u001b[0m\u001b[0m\n\u001b[0;32m     24\u001b[0m \u001b[1;31m# Call the compress function\u001b[0m\u001b[1;33m\u001b[0m\u001b[1;33m\u001b[0m\u001b[0m\n\u001b[1;32m---> 25\u001b[1;33m \u001b[0mcompress_pdf\u001b[0m\u001b[1;33m(\u001b[0m\u001b[0minput_pdf\u001b[0m\u001b[1;33m,\u001b[0m \u001b[0moutput_pdf\u001b[0m\u001b[1;33m)\u001b[0m\u001b[1;33m\u001b[0m\u001b[1;33m\u001b[0m\u001b[0m\n\u001b[0m\u001b[0;32m     26\u001b[0m \u001b[1;33m\u001b[0m\u001b[0m\n\u001b[0;32m     27\u001b[0m \u001b[0mprint\u001b[0m\u001b[1;33m(\u001b[0m\u001b[1;34mf\"Compressed PDF saved to {output_pdf}\"\u001b[0m\u001b[1;33m)\u001b[0m\u001b[1;33m\u001b[0m\u001b[1;33m\u001b[0m\u001b[0m\n",
      "\u001b[1;32m~\\AppData\\Local\\Temp\\ipykernel_14184\\1040110455.py\u001b[0m in \u001b[0;36mcompress_pdf\u001b[1;34m(input_path, output_path)\u001b[0m\n\u001b[0;32m     12\u001b[0m \u001b[1;33m\u001b[0m\u001b[0m\n\u001b[0;32m     13\u001b[0m         \u001b[1;31m# Compress the image quality\u001b[0m\u001b[1;33m\u001b[0m\u001b[1;33m\u001b[0m\u001b[0m\n\u001b[1;32m---> 14\u001b[1;33m         \u001b[0mpix\u001b[0m\u001b[1;33m.\u001b[0m\u001b[0msave\u001b[0m\u001b[1;33m(\u001b[0m\u001b[1;34mf\"{output_path}_compressed_page{page_num}.png\"\u001b[0m\u001b[1;33m,\u001b[0m \u001b[0mdpi\u001b[0m\u001b[1;33m=\u001b[0m\u001b[1;33m(\u001b[0m\u001b[1;36m72\u001b[0m\u001b[1;33m,\u001b[0m\u001b[1;36m72\u001b[0m\u001b[1;33m)\u001b[0m\u001b[1;33m)\u001b[0m  \u001b[1;31m# Save each page as an image\u001b[0m\u001b[1;33m\u001b[0m\u001b[1;33m\u001b[0m\u001b[0m\n\u001b[0m\u001b[0;32m     15\u001b[0m \u001b[1;33m\u001b[0m\u001b[0m\n\u001b[0;32m     16\u001b[0m     \u001b[1;31m# Save the new PDF\u001b[0m\u001b[1;33m\u001b[0m\u001b[1;33m\u001b[0m\u001b[0m\n",
      "\u001b[1;31mTypeError\u001b[0m: save() got an unexpected keyword argument 'dpi'"
     ]
    }
   ],
   "source": [
    "import fitz  # PyMuPDF\n",
    "\n",
    "# Function to compress PDF\n",
    "def compress_pdf(input_path, output_path):\n",
    "    # Open the input PDF\n",
    "    pdf_document = fitz.open(input_path)\n",
    "\n",
    "    # Loop through the pages to compress each\n",
    "    for page_num in range(len(pdf_document)):\n",
    "        page = pdf_document.load_page(page_num)  # Get the page\n",
    "        pix = page.get_pixmap()  # Get pixel map (image of the page)\n",
    "        \n",
    "        # Compress the image quality\n",
    "        pix.save(f\"{output_path}_compressed_page{page_num}.png\", dpi=(72,72))  # Save each page as an image\n",
    "\n",
    "    # Save the new PDF\n",
    "    pdf_document.save(output_path, garbage=4, deflate=True)\n",
    "    pdf_document.close()\n",
    "\n",
    "# Provide input and output file paths\n",
    "input_pdf = r\"D:\\mera\\merhi.pdf\"  # Your 6.7 MB file\n",
    "output_pdf = r\"D:\\meranew.pdf\"\n",
    "\n",
    "# Call the compress function\n",
    "compress_pdf(input_pdf, output_pdf)\n",
    "\n",
    "print(f\"Compressed PDF saved to {output_pdf}\")\n"
   ]
  },
  {
   "cell_type": "code",
   "execution_count": 19,
   "id": "0907191f",
   "metadata": {},
   "outputs": [
    {
     "name": "stdout",
     "output_type": "stream",
     "text": [
      "Page 1 saved as D:\\meranew.pdf_compressed_page0.png\n",
      "Page 2 saved as D:\\meranew.pdf_compressed_page1.png\n",
      "Page 3 saved as D:\\meranew.pdf_compressed_page2.png\n",
      "Page 4 saved as D:\\meranew.pdf_compressed_page3.png\n",
      "Page 5 saved as D:\\meranew.pdf_compressed_page4.png\n",
      "Page 6 saved as D:\\meranew.pdf_compressed_page5.png\n",
      "Page 7 saved as D:\\meranew.pdf_compressed_page6.png\n",
      "Page 8 saved as D:\\meranew.pdf_compressed_page7.png\n",
      "Page 9 saved as D:\\meranew.pdf_compressed_page8.png\n",
      "Page 10 saved as D:\\meranew.pdf_compressed_page9.png\n",
      "Page 11 saved as D:\\meranew.pdf_compressed_page10.png\n",
      "Page 12 saved as D:\\meranew.pdf_compressed_page11.png\n",
      "Page 13 saved as D:\\meranew.pdf_compressed_page12.png\n",
      "Page 14 saved as D:\\meranew.pdf_compressed_page13.png\n",
      "Page 15 saved as D:\\meranew.pdf_compressed_page14.png\n",
      "Page 16 saved as D:\\meranew.pdf_compressed_page15.png\n",
      "Page 17 saved as D:\\meranew.pdf_compressed_page16.png\n",
      "Page 18 saved as D:\\meranew.pdf_compressed_page17.png\n",
      "Page 19 saved as D:\\meranew.pdf_compressed_page18.png\n",
      "Page 20 saved as D:\\meranew.pdf_compressed_page19.png\n",
      "Page 21 saved as D:\\meranew.pdf_compressed_page20.png\n",
      "Page 22 saved as D:\\meranew.pdf_compressed_page21.png\n",
      "Page 23 saved as D:\\meranew.pdf_compressed_page22.png\n",
      "Page 24 saved as D:\\meranew.pdf_compressed_page23.png\n",
      "Page 25 saved as D:\\meranew.pdf_compressed_page24.png\n",
      "Page 26 saved as D:\\meranew.pdf_compressed_page25.png\n",
      "Page 27 saved as D:\\meranew.pdf_compressed_page26.png\n",
      "Page 28 saved as D:\\meranew.pdf_compressed_page27.png\n",
      "Page 29 saved as D:\\meranew.pdf_compressed_page28.png\n",
      "Page 30 saved as D:\\meranew.pdf_compressed_page29.png\n",
      "Page 31 saved as D:\\meranew.pdf_compressed_page30.png\n",
      "Page 32 saved as D:\\meranew.pdf_compressed_page31.png\n",
      "Page 33 saved as D:\\meranew.pdf_compressed_page32.png\n",
      "Page 34 saved as D:\\meranew.pdf_compressed_page33.png\n",
      "Page 35 saved as D:\\meranew.pdf_compressed_page34.png\n",
      "Page 36 saved as D:\\meranew.pdf_compressed_page35.png\n",
      "Page 37 saved as D:\\meranew.pdf_compressed_page36.png\n",
      "Page 38 saved as D:\\meranew.pdf_compressed_page37.png\n",
      "Page 39 saved as D:\\meranew.pdf_compressed_page38.png\n",
      "Page 40 saved as D:\\meranew.pdf_compressed_page39.png\n",
      "Page 41 saved as D:\\meranew.pdf_compressed_page40.png\n",
      "Page 42 saved as D:\\meranew.pdf_compressed_page41.png\n",
      "Page 43 saved as D:\\meranew.pdf_compressed_page42.png\n",
      "Page 44 saved as D:\\meranew.pdf_compressed_page43.png\n",
      "Compressed PDF saved to D:\\meranew.pdf\n"
     ]
    }
   ],
   "source": [
    "import fitz  # PyMuPDF\n",
    "\n",
    "# Function to compress PDF\n",
    "def compress_pdf(input_path, output_path):\n",
    "    # Open the input PDF\n",
    "    pdf_document = fitz.open(input_path)\n",
    "\n",
    "    # Loop through the pages to compress each\n",
    "    for page_num in range(len(pdf_document)):\n",
    "        page = pdf_document.load_page(page_num)  # Get the page\n",
    "        pix = page.get_pixmap(dpi=72)  # Reduce image resolution to 72 DPI\n",
    "        \n",
    "        # Save each page as an image\n",
    "        image_path = f\"{output_path}_compressed_page{page_num}.png\"\n",
    "        pix.save(image_path)\n",
    "        print(f\"Page {page_num + 1} saved as {image_path}\")\n",
    "\n",
    "    # Save the compressed PDF\n",
    "    pdf_document.save(output_path, garbage=4, deflate=True)\n",
    "    pdf_document.close()\n",
    "\n",
    "# Provide input and output file paths\n",
    "input_pdf = r\"D:\\mera\\merhi.pdf\"  # Your 6.7 MB file\n",
    "output_pdf = r\"D:\\meranew.pdf\"\n",
    "\n",
    "# Call the compress function\n",
    "compress_pdf(input_pdf, output_pdf)\n",
    "\n",
    "print(f\"Compressed PDF saved to {output_pdf}\")\n"
   ]
  },
  {
   "cell_type": "code",
   "execution_count": 21,
   "id": "cec652ac",
   "metadata": {},
   "outputs": [
    {
     "name": "stdout",
     "output_type": "stream",
     "text": [
      "Compressed PDF saved to D:\\meranew.pdf\n"
     ]
    }
   ],
   "source": [
    "import fitz  # PyMuPDF\n",
    "\n",
    "# Function to compress PDF\n",
    "def compress_pdf(input_path, output_path):\n",
    "    # Open the input PDF\n",
    "    pdf_document = fitz.open(input_path)\n",
    "\n",
    "    # Save the compressed PDF\n",
    "    pdf_document.save(output_path, garbage=4, deflate=True, clean=True)\n",
    "    pdf_document.close()\n",
    "\n",
    "# Provide input and output file paths\n",
    "input_pdf = r\"D:\\mera\\merhi.pdf\"  # Your 6.7 MB file\n",
    "output_pdf = r\"D:\\meranew.pdf\"\n",
    "\n",
    "# Call the compress function\n",
    "compress_pdf(input_pdf, output_pdf)\n",
    "\n",
    "print(f\"Compressed PDF saved to {output_pdf}\")\n"
   ]
  },
  {
   "cell_type": "code",
   "execution_count": 22,
   "id": "33a2292f",
   "metadata": {
    "scrolled": true
   },
   "outputs": [
    {
     "ename": "FileDataError",
     "evalue": "cannot open broken document",
     "output_type": "error",
     "traceback": [
      "\u001b[1;31m---------------------------------------------------------------------------\u001b[0m",
      "\u001b[1;31mFileDataError\u001b[0m                             Traceback (most recent call last)",
      "\u001b[1;32m~\\AppData\\Local\\Temp\\ipykernel_14184\\3140167408.py\u001b[0m in \u001b[0;36m<module>\u001b[1;34m\u001b[0m\n\u001b[0;32m     36\u001b[0m \u001b[0minput_pdf\u001b[0m \u001b[1;33m=\u001b[0m \u001b[1;34mr\"D:\\mera\\merhi.pdf\"\u001b[0m\u001b[1;33m\u001b[0m\u001b[1;33m\u001b[0m\u001b[0m\n\u001b[0;32m     37\u001b[0m \u001b[0moutput_pdf\u001b[0m \u001b[1;33m=\u001b[0m \u001b[1;34mr\"D:\\meranew.pdf\"\u001b[0m\u001b[1;33m\u001b[0m\u001b[1;33m\u001b[0m\u001b[0m\n\u001b[1;32m---> 38\u001b[1;33m \u001b[0mcompress_pdf\u001b[0m\u001b[1;33m(\u001b[0m\u001b[0minput_pdf\u001b[0m\u001b[1;33m,\u001b[0m \u001b[0moutput_pdf\u001b[0m\u001b[1;33m,\u001b[0m \u001b[0mimage_quality\u001b[0m\u001b[1;33m=\u001b[0m\u001b[1;36m50\u001b[0m\u001b[1;33m)\u001b[0m  \u001b[1;31m# Reduce image quality to 50%\u001b[0m\u001b[1;33m\u001b[0m\u001b[1;33m\u001b[0m\u001b[0m\n\u001b[0m",
      "\u001b[1;32m~\\AppData\\Local\\Temp\\ipykernel_14184\\3140167408.py\u001b[0m in \u001b[0;36mcompress_pdf\u001b[1;34m(input_path, output_path, image_quality)\u001b[0m\n\u001b[0;32m     15\u001b[0m \u001b[1;33m\u001b[0m\u001b[0m\n\u001b[0;32m     16\u001b[0m             \u001b[1;31m# Convert the image into a lower-quality version\u001b[0m\u001b[1;33m\u001b[0m\u001b[1;33m\u001b[0m\u001b[0m\n\u001b[1;32m---> 17\u001b[1;33m             \u001b[0mimage_pixmap\u001b[0m \u001b[1;33m=\u001b[0m \u001b[0mfitz\u001b[0m\u001b[1;33m.\u001b[0m\u001b[0mPixmap\u001b[0m\u001b[1;33m(\u001b[0m\u001b[0mfitz\u001b[0m\u001b[1;33m.\u001b[0m\u001b[0mopen\u001b[0m\u001b[1;33m(\u001b[0m\u001b[1;34m\"pdf\"\u001b[0m\u001b[1;33m,\u001b[0m \u001b[0mimage_bytes\u001b[0m\u001b[1;33m)\u001b[0m\u001b[1;33m)\u001b[0m\u001b[1;33m\u001b[0m\u001b[1;33m\u001b[0m\u001b[0m\n\u001b[0m\u001b[0;32m     18\u001b[0m \u001b[1;33m\u001b[0m\u001b[0m\n\u001b[0;32m     19\u001b[0m             \u001b[1;32mif\u001b[0m \u001b[0mimage_pixmap\u001b[0m\u001b[1;33m.\u001b[0m\u001b[0mn\u001b[0m \u001b[1;33m>\u001b[0m \u001b[1;36m4\u001b[0m\u001b[1;33m:\u001b[0m  \u001b[1;31m# If CMYK, convert to RGB\u001b[0m\u001b[1;33m\u001b[0m\u001b[1;33m\u001b[0m\u001b[0m\n",
      "\u001b[1;32m~\\anaconda3\\lib\\site-packages\\fitz\\fitz.py\u001b[0m in \u001b[0;36m__init__\u001b[1;34m(self, filename, stream, filetype, rect, width, height, fontsize)\u001b[0m\n\u001b[0;32m   3960\u001b[0m \u001b[1;33m\u001b[0m\u001b[0m\n\u001b[0;32m   3961\u001b[0m \u001b[1;33m\u001b[0m\u001b[0m\n\u001b[1;32m-> 3962\u001b[1;33m         \u001b[0m_fitz\u001b[0m\u001b[1;33m.\u001b[0m\u001b[0mDocument_swiginit\u001b[0m\u001b[1;33m(\u001b[0m\u001b[0mself\u001b[0m\u001b[1;33m,\u001b[0m \u001b[0m_fitz\u001b[0m\u001b[1;33m.\u001b[0m\u001b[0mnew_Document\u001b[0m\u001b[1;33m(\u001b[0m\u001b[0mfilename\u001b[0m\u001b[1;33m,\u001b[0m \u001b[0mstream\u001b[0m\u001b[1;33m,\u001b[0m \u001b[0mfiletype\u001b[0m\u001b[1;33m,\u001b[0m \u001b[0mrect\u001b[0m\u001b[1;33m,\u001b[0m \u001b[0mwidth\u001b[0m\u001b[1;33m,\u001b[0m \u001b[0mheight\u001b[0m\u001b[1;33m,\u001b[0m \u001b[0mfontsize\u001b[0m\u001b[1;33m)\u001b[0m\u001b[1;33m)\u001b[0m\u001b[1;33m\u001b[0m\u001b[1;33m\u001b[0m\u001b[0m\n\u001b[0m\u001b[0;32m   3963\u001b[0m \u001b[1;33m\u001b[0m\u001b[0m\n\u001b[0;32m   3964\u001b[0m         \u001b[1;32mif\u001b[0m \u001b[0mself\u001b[0m\u001b[1;33m.\u001b[0m\u001b[0mthisown\u001b[0m\u001b[1;33m:\u001b[0m\u001b[1;33m\u001b[0m\u001b[1;33m\u001b[0m\u001b[0m\n",
      "\u001b[1;31mFileDataError\u001b[0m: cannot open broken document"
     ]
    }
   ],
   "source": [
    "import fitz  # PyMuPDF\n",
    "\n",
    "def compress_pdf(input_path, output_path, image_quality=50):\n",
    "    # Open the input PDF\n",
    "    pdf_document = fitz.open(input_path)\n",
    "\n",
    "    for page_num in range(len(pdf_document)):\n",
    "        page = pdf_document.load_page(page_num)\n",
    "        images = page.get_images(full=True)\n",
    "        \n",
    "        for img_index, img in enumerate(images):\n",
    "            xref = img[0]\n",
    "            base_image = pdf_document.extract_image(xref)\n",
    "            image_bytes = base_image[\"image\"]\n",
    "\n",
    "            # Convert the image into a lower-quality version\n",
    "            image_pixmap = fitz.Pixmap(fitz.open(\"pdf\", image_bytes))\n",
    "\n",
    "            if image_pixmap.n > 4:  # If CMYK, convert to RGB\n",
    "                image_pixmap = fitz.Pixmap(fitz.csRGB, image_pixmap)\n",
    "\n",
    "            # Reduce image resolution/quality\n",
    "            image_pixmap.set_dpi(72, 72)\n",
    "            img_filename = f\"compressed_img_{img_index}.jpg\"\n",
    "            image_pixmap.save(img_filename, quality=image_quality)  # Save with reduced quality\n",
    "\n",
    "            # Replace the image in the PDF with the lower-quality version\n",
    "            rect = page.get_image_rects(xref)[0]  # get image position\n",
    "            page.insert_image(rect, filename=img_filename)\n",
    "\n",
    "    # Save the compressed PDF\n",
    "    pdf_document.save(output_path, garbage=4, deflate=True)\n",
    "    pdf_document.close()\n",
    "\n",
    "# Usage\n",
    "input_pdf = r\"D:\\mera\\merhi.pdf\"\n",
    "output_pdf = r\"D:\\meranew.pdf\"\n",
    "compress_pdf(input_pdf, output_pdf, image_quality=50)  # Reduce image quality to 50%\n"
   ]
  },
  {
   "cell_type": "code",
   "execution_count": 25,
   "id": "7dc08d5e",
   "metadata": {},
   "outputs": [
    {
     "name": "stdout",
     "output_type": "stream",
     "text": [
      "Error processing image 0 on page 0: cannot open : Invalid argument\n",
      "Error processing image 0 on page 1: cannot open : Invalid argument\n",
      "Error processing image 0 on page 2: cannot open : Invalid argument\n",
      "Error processing image 0 on page 3: cannot open : Invalid argument\n",
      "Error processing image 0 on page 4: cannot open : Invalid argument\n",
      "Error processing image 0 on page 5: cannot open : Invalid argument\n",
      "Error processing image 0 on page 6: cannot open : Invalid argument\n",
      "Error processing image 0 on page 7: cannot open : Invalid argument\n",
      "Error processing image 0 on page 8: cannot open : Invalid argument\n",
      "Error processing image 0 on page 9: cannot open : Invalid argument\n",
      "Error processing image 0 on page 10: cannot open : Invalid argument\n",
      "Error processing image 0 on page 11: cannot open : Invalid argument\n",
      "Error processing image 0 on page 12: cannot open : Invalid argument\n",
      "Error processing image 0 on page 13: cannot open : Invalid argument\n",
      "Error processing image 0 on page 14: cannot open : Invalid argument\n",
      "Error processing image 0 on page 15: cannot open : Invalid argument\n",
      "Error processing image 0 on page 16: cannot open : Invalid argument\n",
      "Error processing image 0 on page 17: cannot open : Invalid argument\n",
      "Error processing image 0 on page 18: cannot open : Invalid argument\n",
      "Error processing image 0 on page 19: cannot open : Invalid argument\n",
      "Error processing image 0 on page 20: cannot open : Invalid argument\n",
      "Error processing image 0 on page 21: cannot open : Invalid argument\n",
      "Error processing image 0 on page 22: cannot open : Invalid argument\n",
      "Error processing image 0 on page 23: cannot open : Invalid argument\n",
      "Error processing image 0 on page 24: cannot open : Invalid argument\n",
      "Error processing image 0 on page 25: cannot open : Invalid argument\n",
      "Error processing image 0 on page 26: cannot open : Invalid argument\n",
      "Error processing image 0 on page 27: cannot open : Invalid argument\n",
      "Error processing image 0 on page 28: cannot open : Invalid argument\n",
      "Error processing image 0 on page 29: cannot open : Invalid argument\n",
      "Error processing image 0 on page 30: cannot open : Invalid argument\n",
      "Error processing image 0 on page 31: cannot open : Invalid argument\n",
      "Error processing image 0 on page 32: cannot open : Invalid argument\n",
      "Error processing image 0 on page 33: cannot open : Invalid argument\n",
      "Error processing image 0 on page 34: cannot open : Invalid argument\n",
      "Error processing image 0 on page 35: cannot open : Invalid argument\n",
      "Error processing image 0 on page 36: cannot open : Invalid argument\n",
      "Error processing image 0 on page 37: cannot open : Invalid argument\n",
      "Error processing image 0 on page 38: cannot open : Invalid argument\n",
      "Error processing image 0 on page 39: cannot open : Invalid argument\n",
      "Error processing image 0 on page 40: cannot open : Invalid argument\n",
      "Error processing image 0 on page 41: cannot open : Invalid argument\n",
      "Error processing image 0 on page 42: cannot open : Invalid argument\n",
      "Error processing image 0 on page 43: cannot open : Invalid argument\n"
     ]
    }
   ],
   "source": [
    "import fitz  # PyMuPDF\n",
    "\n",
    "def compress_pdf(input_path, output_path, image_quality=50):\n",
    "    # Open the input PDF\n",
    "    pdf_document = fitz.open(input_path)\n",
    "\n",
    "    for page_num in range(len(pdf_document)):\n",
    "        page = pdf_document.load_page(page_num)\n",
    "        images = page.get_images(full=True)\n",
    "\n",
    "        for img_index, img in enumerate(images):\n",
    "            xref = img[0]\n",
    "            base_image = pdf_document.extract_image(xref)\n",
    "            image_bytes = base_image[\"image\"]\n",
    "\n",
    "            # Try to open the image bytes and compress them\n",
    "            try:\n",
    "                # Convert the image into a lower-quality version\n",
    "                image_pixmap = fitz.Pixmap(fitz.open(\"png\", image_bytes))\n",
    "\n",
    "                if image_pixmap.n > 4:  # If CMYK, convert to RGB\n",
    "                    image_pixmap = fitz.Pixmap(fitz.csRGB, image_pixmap)\n",
    "\n",
    "                # Reduce image resolution/quality\n",
    "                image_pixmap.set_dpi(72, 72)\n",
    "\n",
    "                # Save with reduced quality to a temporary file\n",
    "                img_filename = f\"compressed_img_{img_index}.jpg\"\n",
    "                image_pixmap.save(img_filename, quality=image_quality)  # Save with reduced quality\n",
    "\n",
    "                # Replace the image in the PDF with the lower-quality version\n",
    "                rect = page.get_image_rects(xref)[0]  # get image position\n",
    "                page.insert_image(rect, filename=img_filename)\n",
    "\n",
    "                # Clean up the pixmap\n",
    "                image_pixmap = None  # Free memory\n",
    "\n",
    "            except Exception as e:\n",
    "                print(f\"Error processing image {img_index} on page {page_num}: {e}\")\n",
    "\n",
    "    # Save the compressed PDF\n",
    "    pdf_document.save(output_path, garbage=4, deflate=True)\n",
    "    pdf_document.close()\n",
    "\n",
    "# Usage\n",
    "input_pdf = r\"D:\\mera\\merhi.pdf\"\n",
    "output_pdf = r\"D:\\meranew.pdf\"\n",
    "compress_pdf(input_pdf, output_pdf, image_quality=50)  # Reduce image quality to 50%\n"
   ]
  },
  {
   "cell_type": "code",
   "execution_count": 24,
   "id": "2edc57b4",
   "metadata": {},
   "outputs": [],
   "source": [
    "import subprocess\n",
    "\n",
    "def compress_with_ghostscript(input_pdf, output_pdf):\n",
    "    gs_command = [\n",
    "        \"gswin64c\", \"-sDEVICE=pdfwrite\", \"-dCompatibilityLevel=1.4\",\n",
    "        \"-dPDFSETTINGS=/screen\", \"-dNOPAUSE\", \"-dQUIET\", \"-dBATCH\",\n",
    "        f\"-sOutputFile={output_pdf}\", input_pdf\n",
    "    ]\n",
    "    subprocess.run(gs_command, check=True)\n",
    "\n",
    "# Usage\n",
    "input_pdf = r\"D:\\mera\\merhi.pdf\"\n",
    "output_pdf = r\"D:\\meranew.pdf\"\n",
    "compress_with_ghostscript(input_pdf, output_pdf)\n"
   ]
  },
  {
   "cell_type": "code",
   "execution_count": 6,
   "id": "09893ba3",
   "metadata": {},
   "outputs": [],
   "source": [
    "import img2pdf\n",
    "import os"
   ]
  },
  {
   "cell_type": "code",
   "execution_count": 12,
   "id": "e86d21b1",
   "metadata": {},
   "outputs": [
    {
     "name": "stdout",
     "output_type": "stream",
     "text": [
      "Folder exists\n"
     ]
    }
   ],
   "source": [
    "import os\n",
    "\n",
    "img_folder = \"D:\\\\whatmine\"  # Use double backslashes for Windows paths\n",
    "if os.path.exists(img_folder):\n",
    "    print(\"Folder exists\")\n",
    "else:\n",
    "    print(\"Folder not found\")\n"
   ]
  },
  {
   "cell_type": "code",
   "execution_count": 26,
   "id": "807ec082",
   "metadata": {},
   "outputs": [],
   "source": [
    "import fitz  # PyMuPDF\n",
    "\n",
    "# Open the PDF\n",
    "pdf_document = fitz.open(r\"D:\\mera\\merhi.pdf\")\n",
    "\n",
    "# Do some operations on the PDF...\n",
    "\n",
    "# Close the PDF\n",
    "pdf_document.close()\n"
   ]
  },
  {
   "cell_type": "code",
   "execution_count": 27,
   "id": "55d8a5ef",
   "metadata": {},
   "outputs": [
    {
     "ename": "ValueError",
     "evalue": "document closed",
     "output_type": "error",
     "traceback": [
      "\u001b[1;31m---------------------------------------------------------------------------\u001b[0m",
      "\u001b[1;31mValueError\u001b[0m                                Traceback (most recent call last)",
      "\u001b[1;32m~\\AppData\\Local\\Temp\\ipykernel_14184\\2913970522.py\u001b[0m in \u001b[0;36m<module>\u001b[1;34m\u001b[0m\n\u001b[1;32m----> 1\u001b[1;33m \u001b[0mpdf_document\u001b[0m\u001b[1;33m.\u001b[0m\u001b[0mclose\u001b[0m\u001b[1;33m(\u001b[0m\u001b[1;33m)\u001b[0m\u001b[1;33m\u001b[0m\u001b[1;33m\u001b[0m\u001b[0m\n\u001b[0m",
      "\u001b[1;32m~\\anaconda3\\lib\\site-packages\\fitz\\fitz.py\u001b[0m in \u001b[0;36mclose\u001b[1;34m(self)\u001b[0m\n\u001b[0;32m   5538\u001b[0m         \u001b[1;34m\"\"\"Close the document.\"\"\"\u001b[0m\u001b[1;33m\u001b[0m\u001b[1;33m\u001b[0m\u001b[0m\n\u001b[0;32m   5539\u001b[0m         \u001b[1;32mif\u001b[0m \u001b[0mgetattr\u001b[0m\u001b[1;33m(\u001b[0m\u001b[0mself\u001b[0m\u001b[1;33m,\u001b[0m \u001b[1;34m\"is_closed\"\u001b[0m\u001b[1;33m,\u001b[0m \u001b[1;32mFalse\u001b[0m\u001b[1;33m)\u001b[0m\u001b[1;33m:\u001b[0m\u001b[1;33m\u001b[0m\u001b[1;33m\u001b[0m\u001b[0m\n\u001b[1;32m-> 5540\u001b[1;33m             \u001b[1;32mraise\u001b[0m \u001b[0mValueError\u001b[0m\u001b[1;33m(\u001b[0m\u001b[1;34m\"document closed\"\u001b[0m\u001b[1;33m)\u001b[0m\u001b[1;33m\u001b[0m\u001b[1;33m\u001b[0m\u001b[0m\n\u001b[0m\u001b[0;32m   5541\u001b[0m         \u001b[0mself\u001b[0m\u001b[1;33m.\u001b[0m\u001b[0m_cleanup\u001b[0m\u001b[1;33m(\u001b[0m\u001b[1;33m)\u001b[0m\u001b[1;33m\u001b[0m\u001b[1;33m\u001b[0m\u001b[0m\n\u001b[0;32m   5542\u001b[0m         \u001b[1;32mif\u001b[0m \u001b[0mgetattr\u001b[0m\u001b[1;33m(\u001b[0m\u001b[0mself\u001b[0m\u001b[1;33m,\u001b[0m \u001b[1;34m\"thisown\"\u001b[0m\u001b[1;33m,\u001b[0m \u001b[1;32mFalse\u001b[0m\u001b[1;33m)\u001b[0m\u001b[1;33m:\u001b[0m\u001b[1;33m\u001b[0m\u001b[1;33m\u001b[0m\u001b[0m\n",
      "\u001b[1;31mValueError\u001b[0m: document closed"
     ]
    }
   ],
   "source": [
    "pdf_document.close()"
   ]
  },
  {
   "cell_type": "code",
   "execution_count": 1,
   "id": "6cc2f87c",
   "metadata": {},
   "outputs": [],
   "source": [
    "#step 1-search git bash, type cd Desktop, type git clone URL, type cd name_of_.gitextension_that_was_cloned, now do git branch\n",
    "#new_branch_name, now do git checkout new_branch_name and enter the respective branch, now make the changes in the respective\n",
    "#cloned file and do git add . followed by git commit -m \"any random comment\" ...if you are being asked for username and email then\n",
    "# do git config user.name \"mandu\"\n",
    "#    git config user.email \"manh@123gmail.com\"\n",
    "#and now do git commit -m \"any comment\"\n",
    "#and do git push origin dhondu "
   ]
  },
  {
   "cell_type": "code",
   "execution_count": 2,
   "id": "49883588",
   "metadata": {},
   "outputs": [],
   "source": [
    "#The data wil be pushed in this branch by now"
   ]
  },
  {
   "cell_type": "code",
   "execution_count": null,
   "id": "8e617037",
   "metadata": {},
   "outputs": [],
   "source": []
  }
 ],
 "metadata": {
  "kernelspec": {
   "display_name": "Python 3 (ipykernel)",
   "language": "python",
   "name": "python3"
  },
  "language_info": {
   "codemirror_mode": {
    "name": "ipython",
    "version": 3
   },
   "file_extension": ".py",
   "mimetype": "text/x-python",
   "name": "python",
   "nbconvert_exporter": "python",
   "pygments_lexer": "ipython3",
   "version": "3.9.13"
  }
 },
 "nbformat": 4,
 "nbformat_minor": 5
}
